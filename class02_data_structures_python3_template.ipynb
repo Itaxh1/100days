{
  "nbformat": 4,
  "nbformat_minor": 0,
  "metadata": {
    "kernelspec": {
      "display_name": "Python 3",
      "language": "python",
      "name": "python3"
    },
    "language_info": {
      "codemirror_mode": {
        "name": "ipython",
        "version": 3
      },
      "file_extension": ".py",
      "mimetype": "text/x-python",
      "name": "python",
      "nbconvert_exporter": "python",
      "pygments_lexer": "ipython3",
      "version": "3.7.4"
    },
    "colab": {
      "provenance": [],
      "include_colab_link": true
    }
  },
  "cells": [
    {
      "cell_type": "markdown",
      "metadata": {
        "id": "view-in-github",
        "colab_type": "text"
      },
      "source": [
        "<a href=\"https://colab.research.google.com/github/Itaxh1/100days/blob/main/class02_data_structures_python3_template.ipynb\" target=\"_parent\"><img src=\"https://colab.research.google.com/assets/colab-badge.svg\" alt=\"Open In Colab\"/></a>"
      ]
    },
    {
      "cell_type": "markdown",
      "metadata": {
        "id": "UJ8spsITcl4J"
      },
      "source": [
        "# CSX46 Class Notebook 2 - Data Structures\n"
      ]
    },
    {
      "cell_type": "markdown",
      "metadata": {
        "id": "BCCJMQsmcl4L"
      },
      "source": [
        "## Part 1: Comparing running times for neighbor enumeration\n",
        "\n",
        "In this notebook we will measure the running time for enumerating the neighbor vertices for three different data structures for representing an undirected graph:\n",
        "- adjacency matrix\n",
        "- adjacency list\n",
        "- edge list\n",
        "\n",
        "Let's assume that each vertex is labeled with a unique integer number.  So if there are *N* vertices, the vertices are labeled 0, 2, 3, 4, ..., *N*-1.\n",
        "\n",
        "First, we will import all of the Python modules that we will need for this exercise:\n",
        "note how we assign a short name, \"np\" to the numpy module. This will save typing."
      ]
    },
    {
      "cell_type": "markdown",
      "metadata": {
        "id": "NyLdOwQydNed"
      },
      "source": [
        "Import the builtin python modules that we will need in Part 1:"
      ]
    },
    {
      "cell_type": "code",
      "metadata": {
        "id": "UOcLATAbcl4N"
      },
      "source": [
        "import numpy as np\n",
        "import timeit"
      ],
      "execution_count": null,
      "outputs": []
    },
    {
      "cell_type": "markdown",
      "metadata": {
        "id": "-aAOmLe1ftKY"
      },
      "source": [
        "Install pycairo so that we can plot in igraph"
      ]
    },
    {
      "cell_type": "code",
      "metadata": {
        "id": "bWx8mp65fxsG",
        "outputId": "fcef5544-e94c-4123-8f1a-6608f70d03c8",
        "colab": {
          "base_uri": "https://localhost:8080/",
          "height": 208
        }
      },
      "source": [
        "!apt-get install libcairo2-dev libjpeg-dev libgif-dev\n",
        "!pip install pycairo\n",
        "import cairo"
      ],
      "execution_count": null,
      "outputs": [
        {
          "output_type": "stream",
          "text": [
            "Reading package lists... Done\n",
            "Building dependency tree       \n",
            "Reading state information... Done\n",
            "libjpeg-dev is already the newest version (8c-2ubuntu8).\n",
            "libcairo2-dev is already the newest version (1.15.10-2ubuntu0.1).\n",
            "libgif-dev is already the newest version (5.1.4-2ubuntu0.1).\n",
            "The following package was automatically installed and is no longer required:\n",
            "  libnvidia-common-440\n",
            "Use 'apt autoremove' to remove it.\n",
            "0 upgraded, 0 newly installed, 0 to remove and 39 not upgraded.\n",
            "Requirement already satisfied: pycairo in /usr/local/lib/python3.6/dist-packages (1.19.1)\n"
          ],
          "name": "stdout"
        }
      ]
    },
    {
      "cell_type": "markdown",
      "metadata": {
        "id": "lVVraTA-dDqK"
      },
      "source": [
        "Install `python-igraph` and import it (see [Class Session 1 notebook](https://colab.research.google.com/drive/1LbdlGfkqmr726UpUqPP9_z2pBIVm200n?usp=sharing) for details):"
      ]
    },
    {
      "cell_type": "code",
      "metadata": {
        "id": "ElP847CDdInb",
        "outputId": "61703b7e-2d0b-481b-b700-f9da0b88f35a",
        "colab": {
          "base_uri": "https://localhost:8080/",
          "height": 72
        }
      },
      "source": [
        "!pip install python-igraph\n",
        "import igraph"
      ],
      "execution_count": null,
      "outputs": [
        {
          "output_type": "stream",
          "text": [
            "Requirement already satisfied: python-igraph in /usr/local/lib/python3.6/dist-packages (0.8.2)\n",
            "Requirement already satisfied: texttable>=1.6.2 in /usr/local/lib/python3.6/dist-packages (from python-igraph) (1.6.2)\n"
          ],
          "name": "stdout"
        }
      ]
    },
    {
      "cell_type": "markdown",
      "metadata": {
        "id": "ujxZtvkfcl4Z"
      },
      "source": [
        "Now, define a function that returns the index numbers of the neighbors of a vertex `i`, when the\n",
        "graph is stored in adjacency matrix format.  So your function will accept as an input a *N*⨉*N* numpy matrix. The function should return a list (of index numbers of the neighbors)."
      ]
    },
    {
      "cell_type": "code",
      "metadata": {
        "id": "9khBaUoscl4b"
      },
      "source": [
        "def enumerate_matrix(gmat, i):\n",
        "    return #FILL IN HERE#"
      ],
      "execution_count": null,
      "outputs": []
    },
    {
      "cell_type": "markdown",
      "metadata": {
        "id": "FU9Nfy8jcl4i"
      },
      "source": [
        "Define a function that enumerates the neighbors of a vertex i, when the\n",
        "graph is stored in adjacency list format (a list of lists). The function should return a list (of index numbers of the neighbors)."
      ]
    },
    {
      "cell_type": "code",
      "metadata": {
        "id": "tvi4mkfwcl4k"
      },
      "source": [
        "def enumerate_adj_list(adj_list, i):\n",
        "    return #FILL IN HERE#"
      ],
      "execution_count": null,
      "outputs": []
    },
    {
      "cell_type": "markdown",
      "metadata": {
        "id": "thnWmhlScl4p"
      },
      "source": [
        "Define a function that enumerates the neighbors of a vertex i, when the\n",
        "graph is stored in edge-list format (a numpy array of length-two-lists); use `numpy.where` and `numpy.unique`. The function should return a list (of index numbers of the neighbors)."
      ]
    },
    {
      "cell_type": "code",
      "metadata": {
        "id": "ydIMcHHpcl4q"
      },
      "source": [
        "def enumerate_edge_list(edge_list, i):\n",
        "    inds1 =\n",
        "    elems1 =\n",
        "    inds2 =\n",
        "    elems2 =\n",
        "    return #FILL IN HERE#"
      ],
      "execution_count": null,
      "outputs": []
    },
    {
      "cell_type": "markdown",
      "metadata": {
        "id": "pvQywTevcl4w"
      },
      "source": [
        "In this notebook, we are going to create some random networks. We'll use the Barabasi-Albert method, which has two parameters, *n* and *m* (where *n* > *m*). (For more information on the Barabasi-Albert model, see http://barabasi.com/f/622.pdf). In `igraph`, the `igraph.Graph.Barabasi` method will generate a single connected undirected graph with *n* vertices and where the total number *E* of edges is:\n",
        "\n",
        "    E = nm - (m^2 / 2) - m/2\n",
        "    \n",
        "Let's plot a Barabasi-Albert graph generated using *n*=5 and *m*=3:"
      ]
    },
    {
      "cell_type": "code",
      "metadata": {
        "id": "cM0o3E7Wcl4y",
        "outputId": "56349fca-adb2-4560-d2cc-11537ed66c10",
        "colab": {
          "base_uri": "https://localhost:8080/",
          "height": 289
        }
      },
      "source": [
        "igraph.drawing.plot(igraph.Graph.Barabasi(5,3), bbox=[0,0,200,200])"
      ],
      "execution_count": null,
      "outputs": [
        {
          "output_type": "execute_result",
          "data": {
            "text/plain": [
              "<igraph.drawing.Plot at 0x7f6d6611b400>"
            ],
            "image/svg+xml": "<?xml version=\"1.0\" encoding=\"UTF-8\"?>\n<svg xmlns=\"http://www.w3.org/2000/svg\" xmlns:xlink=\"http://www.w3.org/1999/xlink\" width=\"200pt\" height=\"200pt\" viewBox=\"0 0 200 200\" version=\"1.1\">\n<g id=\"surface2\">\n<rect x=\"0\" y=\"0\" width=\"200\" height=\"200\" style=\"fill:rgb(100%,100%,100%);fill-opacity:1;stroke:none;\"/>\n<path style=\"fill:none;stroke-width:1;stroke-linecap:butt;stroke-linejoin:miter;stroke:rgb(26.666667%,26.666667%,26.666667%);stroke-opacity:1;stroke-miterlimit:10;\" d=\"M 180 96.4375 L 126.519531 180 \"/>\n<path style=\"fill:none;stroke-width:1;stroke-linecap:butt;stroke-linejoin:miter;stroke:rgb(26.666667%,26.666667%,26.666667%);stroke-opacity:1;stroke-miterlimit:10;\" d=\"M 180 96.4375 L 28.710938 132.417969 \"/>\n<path style=\"fill:none;stroke-width:1;stroke-linecap:butt;stroke-linejoin:miter;stroke:rgb(26.666667%,26.666667%,26.666667%);stroke-opacity:1;stroke-miterlimit:10;\" d=\"M 126.519531 180 L 28.710938 132.417969 \"/>\n<path style=\"fill:none;stroke-width:1;stroke-linecap:butt;stroke-linejoin:miter;stroke:rgb(26.666667%,26.666667%,26.666667%);stroke-opacity:1;stroke-miterlimit:10;\" d=\"M 180 96.4375 L 20 77.230469 \"/>\n<path style=\"fill:none;stroke-width:1;stroke-linecap:butt;stroke-linejoin:miter;stroke:rgb(26.666667%,26.666667%,26.666667%);stroke-opacity:1;stroke-miterlimit:10;\" d=\"M 126.519531 180 L 20 77.230469 \"/>\n<path style=\"fill:none;stroke-width:1;stroke-linecap:butt;stroke-linejoin:miter;stroke:rgb(26.666667%,26.666667%,26.666667%);stroke-opacity:1;stroke-miterlimit:10;\" d=\"M 28.710938 132.417969 L 20 77.230469 \"/>\n<path style=\"fill:none;stroke-width:1;stroke-linecap:butt;stroke-linejoin:miter;stroke:rgb(26.666667%,26.666667%,26.666667%);stroke-opacity:1;stroke-miterlimit:10;\" d=\"M 180 96.4375 L 101.261719 20 \"/>\n<path style=\"fill:none;stroke-width:1;stroke-linecap:butt;stroke-linejoin:miter;stroke:rgb(26.666667%,26.666667%,26.666667%);stroke-opacity:1;stroke-miterlimit:10;\" d=\"M 28.710938 132.417969 L 101.261719 20 \"/>\n<path style=\"fill:none;stroke-width:1;stroke-linecap:butt;stroke-linejoin:miter;stroke:rgb(26.666667%,26.666667%,26.666667%);stroke-opacity:1;stroke-miterlimit:10;\" d=\"M 20 77.230469 L 101.261719 20 \"/>\n<path style=\"fill-rule:nonzero;fill:rgb(100%,0%,0%);fill-opacity:1;stroke-width:1;stroke-linecap:butt;stroke-linejoin:miter;stroke:rgb(0%,0%,0%);stroke-opacity:1;stroke-miterlimit:10;\" d=\"M 190 96.4375 C 190 101.960938 185.523438 106.4375 180 106.4375 C 174.476562 106.4375 170 101.960938 170 96.4375 C 170 90.914062 174.476562 86.4375 180 86.4375 C 185.523438 86.4375 190 90.914062 190 96.4375 \"/>\n<path style=\"fill-rule:nonzero;fill:rgb(100%,0%,0%);fill-opacity:1;stroke-width:1;stroke-linecap:butt;stroke-linejoin:miter;stroke:rgb(0%,0%,0%);stroke-opacity:1;stroke-miterlimit:10;\" d=\"M 136.519531 180 C 136.519531 185.523438 132.042969 190 126.519531 190 C 120.996094 190 116.519531 185.523438 116.519531 180 C 116.519531 174.476562 120.996094 170 126.519531 170 C 132.042969 170 136.519531 174.476562 136.519531 180 \"/>\n<path style=\"fill-rule:nonzero;fill:rgb(100%,0%,0%);fill-opacity:1;stroke-width:1;stroke-linecap:butt;stroke-linejoin:miter;stroke:rgb(0%,0%,0%);stroke-opacity:1;stroke-miterlimit:10;\" d=\"M 38.710938 132.417969 C 38.710938 137.941406 34.234375 142.417969 28.710938 142.417969 C 23.1875 142.417969 18.710938 137.941406 18.710938 132.417969 C 18.710938 126.894531 23.1875 122.417969 28.710938 122.417969 C 34.234375 122.417969 38.710938 126.894531 38.710938 132.417969 \"/>\n<path style=\"fill-rule:nonzero;fill:rgb(100%,0%,0%);fill-opacity:1;stroke-width:1;stroke-linecap:butt;stroke-linejoin:miter;stroke:rgb(0%,0%,0%);stroke-opacity:1;stroke-miterlimit:10;\" d=\"M 30 77.230469 C 30 82.753906 25.523438 87.230469 20 87.230469 C 14.476562 87.230469 10 82.753906 10 77.230469 C 10 71.710938 14.476562 67.230469 20 67.230469 C 25.523438 67.230469 30 71.710938 30 77.230469 \"/>\n<path style=\"fill-rule:nonzero;fill:rgb(100%,0%,0%);fill-opacity:1;stroke-width:1;stroke-linecap:butt;stroke-linejoin:miter;stroke:rgb(0%,0%,0%);stroke-opacity:1;stroke-miterlimit:10;\" d=\"M 111.261719 20 C 111.261719 25.523438 106.785156 30 101.261719 30 C 95.738281 30 91.261719 25.523438 91.261719 20 C 91.261719 14.476562 95.738281 10 101.261719 10 C 106.785156 10 111.261719 14.476562 111.261719 20 \"/>\n</g>\n</svg>\n"
          },
          "metadata": {
            "tags": [],
            "image/svg+xml": {
              "isolated": true
            }
          },
          "execution_count": 7
        }
      ]
    },
    {
      "cell_type": "markdown",
      "metadata": {
        "id": "EcepnZTQcl45"
      },
      "source": [
        "Now we need to write a simulation funtion that generates random graphs and enumerates all neighbors of each vertex in the graph (while computing running time), for each of three different graph data structures (adjacency matrix, adjacency list, and edge list). The function's sole argument \"n\" is the number of vertices.\n",
        "It returns a length-three list containing the average running time for enumerating the neighbor vertices of a vertex in the graph."
      ]
    },
    {
      "cell_type": "code",
      "metadata": {
        "id": "lTTwKp8Acl45"
      },
      "source": [
        "def do_sim_ms(n):\n",
        "\n",
        "    retlist = []\n",
        "\n",
        "    nrep = 10\n",
        "    nsubrep = 10\n",
        "\n",
        "    # this is (sort of) a Python way of doing the R function \"replicate\":\n",
        "    for _ in range(nrep):\n",
        "\n",
        "        # make a random undirected graph with fixed (average) vertex degree = 5\n",
        "        g = igraph.Graph.Barabasi(n, 5)\n",
        "\n",
        "        # get the graph in three different representations\n",
        "        g_matrix =\n",
        "        g_adj_list =\n",
        "        g_edge_list =\n",
        "\n",
        "        start_time =\n",
        "\n",
        "        for _ in range(nsubrep):\n",
        "            for i in range(0, n):\n",
        "                # call enumerate_matrix with g_matrix, i\n",
        "\n",
        "        matrix_elapsed =\n",
        "\n",
        "        start_time = timeit.default_timer()\n",
        "\n",
        "        for _ in range(nsubrep):\n",
        "             for i in range(0, n):\n",
        "                # call enumerate_adj_list with g_adj_list, i\n",
        "\n",
        "        adjlist_elapsed =\n",
        "\n",
        "        start_time = timeit.default_timer()\n",
        "\n",
        "        for _ in range(nsubrep):\n",
        "             for i in range(0, n):\n",
        "                # call enumerate_edge_list with g_edge_list, i\n",
        "\n",
        "        edgelist_elapsed =\n",
        "\n",
        "        # append the list [matrix_elapsed, adjlist_elapsed, edgelist_elapsed]\n",
        "        # to retlist\n",
        "\n",
        "\n",
        "        resarray = 1000 * np.mean(np.array(retlist), axis=0)/n\n",
        "\n",
        "        resdict = {'adjacency matrix': resarray[0],\n",
        "                   'adjacency list': resarray[1],\n",
        "                   'edge list': resarray[2]}\n",
        "        # average over replicates and then\n",
        "        # divide by n so that the running time results are on a per-vertex basis\n",
        "    return resdict"
      ],
      "execution_count": null,
      "outputs": []
    },
    {
      "cell_type": "markdown",
      "metadata": {
        "id": "of_nsx6jcl4-"
      },
      "source": [
        "A simulation with 1000 vertices clearly shows that adjacency list is fastest:"
      ]
    },
    {
      "cell_type": "code",
      "metadata": {
        "id": "mYCSjEcXcl4-",
        "outputId": "c0185409-45bd-4e64-d4c6-d4c2fd096fe5",
        "colab": {
          "base_uri": "https://localhost:8080/",
          "height": 69
        }
      },
      "source": [
        "do_sim_ms(1000)"
      ],
      "execution_count": null,
      "outputs": [
        {
          "output_type": "execute_result",
          "data": {
            "text/plain": [
              "{'adjacency list': 0.0010737011000401253,\n",
              " 'adjacency matrix': 0.1377923457999941,\n",
              " 'edge list': 0.33773400259999564}"
            ]
          },
          "metadata": {
            "tags": []
          },
          "execution_count": 9
        }
      ]
    },
    {
      "cell_type": "markdown",
      "metadata": {
        "id": "avsjanUycl5E"
      },
      "source": [
        "Now let's double \"n\". We see the expected behavior, with the running time for the adjacency-matrix and edge-list formats going up when we increase \"n\", but there is hardly any change in the running time for the graph stored in adjacency list format:"
      ]
    },
    {
      "cell_type": "code",
      "metadata": {
        "id": "ygIDyMfxcl5E",
        "outputId": "7248961a-b195-4c1c-b067-77bef8b92e08",
        "colab": {
          "base_uri": "https://localhost:8080/",
          "height": 69
        }
      },
      "source": [
        "do_sim_ms(2000)"
      ],
      "execution_count": null,
      "outputs": [
        {
          "output_type": "execute_result",
          "data": {
            "text/plain": [
              "{'adjacency list': 0.001101841349998267,\n",
              " 'adjacency matrix': 0.32711598070000036,\n",
              " 'edge list': 0.7111244037750055}"
            ]
          },
          "metadata": {
            "tags": []
          },
          "execution_count": 10
        }
      ]
    },
    {
      "cell_type": "markdown",
      "metadata": {
        "id": "BP_2gxz1cc8h"
      },
      "source": [
        "## Part 2: Comparing running times for the \"find\" operation (introducing \"adjacency forests\")\n",
        "\n",
        "## Exploring the average running time for testing if there is an edge between an arbitrary pair of vertices, for different graph data structures"
      ]
    },
    {
      "cell_type": "markdown",
      "metadata": {
        "id": "6b6Qjs3Zcc8j"
      },
      "source": [
        "In this exercise, we'll compare the asymptotic computational running time for testing if there is an edge between a pair of vertices, averaged over all pairs of vertices in the graph. We'll do it for a series of undirected graphs (each generated using an Barabasi-Albert model), each with 1000 vertices. We will vary the number of edges in the graph; each graph will have a different average number of vertex neighbors for a vertex (i.e., each graph will have a different average vertex degree). We will time how long it takes to test all possible pairs of vertices for whether or not there is an edge between them, for each of four different graph data structures (adjacency matrix, adjacency list, edge list, and adjacency forest)."
      ]
    },
    {
      "cell_type": "markdown",
      "metadata": {
        "id": "ayYT__cecc8l"
      },
      "source": [
        "We'll need the \"bintrees\" python module in order to get an implementation of a binary search tree (AVLTree is the class that we will use)."
      ]
    },
    {
      "cell_type": "code",
      "metadata": {
        "id": "NvU2kuU3ihFJ",
        "outputId": "d5ab91a9-c165-4636-c358-7cb65a529fe5",
        "colab": {
          "base_uri": "https://localhost:8080/",
          "height": 34
        }
      },
      "source": [
        "!pip install --only-binary=:all: PACKAGENAME # fill in name here\n",
        "import PACKAGENAME  # fill in name here"
      ],
      "execution_count": null,
      "outputs": [
        {
          "output_type": "stream",
          "text": [
            "Requirement already satisfied: bintrees in /usr/local/lib/python3.6/dist-packages (2.1.0)\n"
          ],
          "name": "stdout"
        }
      ]
    },
    {
      "cell_type": "markdown",
      "metadata": {
        "id": "JrR82UOJcc8y"
      },
      "source": [
        "Now we will need to define some functions for testing a pair of vertices to see if they have an edge between them, for each of three different kinds of data structures for representing the graph.\n",
        "\n",
        "First, we need to create a function, `find_matrix`, that accepts an adjacency matrix (`np.matrix`) `gmat` and a row index `i` and a column index `j`, and returns `True` if there is an edge between vertices `i` and `j` (or `False` otherwise). You'll probably want to use array indexing here."
      ]
    },
    {
      "cell_type": "code",
      "metadata": {
        "id": "SYzYfEGucc80"
      },
      "source": [
        "def find_matrix(gmat, i, j):\n",
        "    return"
      ],
      "execution_count": null,
      "outputs": []
    },
    {
      "cell_type": "markdown",
      "metadata": {
        "id": "ugHuYyvBcc87"
      },
      "source": [
        "Next, we need to create a function, `find_adj_list`, that accepts an adjacency list `adj_list` (which is actually a list of lists of integer vertex IDs). Your function should return `True` if there is an edge between vertex `i` and vertex `j`, or `False` otherwise). You may wisth to use the built-in keyword `in`."
      ]
    },
    {
      "cell_type": "code",
      "metadata": {
        "id": "ohCxnB0gcc89"
      },
      "source": [
        "def find_adj_list(adj_list, i, j):\n",
        "    return"
      ],
      "execution_count": null,
      "outputs": []
    },
    {
      "cell_type": "markdown",
      "metadata": {
        "id": "XGvgBXpWcc9C"
      },
      "source": [
        "Next, we need to create a function, `find_edge_list`, that accepts an edge list argument `edge_list` (which is actually a `numpy.array` of lists (each of length two) containing the vertex IDs of vertices that are connected in the graph). Your function should return `True` if there is an edge between vertex `i` and vertex `j`, or `False` otherwise). You will want to use the functions `numpy.where`, `tolist`, and the keyword `in`."
      ]
    },
    {
      "cell_type": "code",
      "metadata": {
        "id": "ZuCpjdG0cc9D"
      },
      "source": [
        "def find_edge_list(edge_list, i, j):\n",
        "    return"
      ],
      "execution_count": null,
      "outputs": []
    },
    {
      "cell_type": "markdown",
      "metadata": {
        "id": "jda2qlYWcc9J"
      },
      "source": [
        "Next we need to create a function, `find_bst_forest`, that accepts an \"adjacency forest\" argument `bst_forest` (which is actually a list of objects of class `bintrees.AVLTree`). Your function should return `True` if there is an edge between vertex `i` and vertex `j`, or `False` otherwise). You'll want to use the class method `__contains__(j)`."
      ]
    },
    {
      "cell_type": "code",
      "metadata": {
        "id": "5FBSbun5cc9L"
      },
      "source": [
        "def find_bst_forest(bst_forest, i, j):\n",
        "    return"
      ],
      "execution_count": null,
      "outputs": []
    },
    {
      "cell_type": "markdown",
      "metadata": {
        "id": "jQRhkuXMcc9R"
      },
      "source": [
        "Next, we will need a function, `get_bst_forest`, that can create an adjacency forest representation for a graph given an adjacency list as input.  *Important NOTE:* I have deleted the code to create the AVL tree. You should add it."
      ]
    },
    {
      "cell_type": "code",
      "metadata": {
        "id": "iK2GhPzzcc9S"
      },
      "source": [
        "def get_bst_forest(theadjlist):\n",
        "    g_adj_list = theadjlist\n",
        "    n = len(g_adj_list)\n",
        "    theforest = []\n",
        "    for i in range(0,n):\n",
        "        itree =\n",
        "        for j in g_adj_list[i]:\n",
        "            # insert into the tree with key j and value 1\n",
        "        # add itree to theforest at the end of the list\n",
        "    return theforest"
      ],
      "execution_count": null,
      "outputs": []
    },
    {
      "cell_type": "markdown",
      "metadata": {
        "id": "8YwB8fI0cc9W"
      },
      "source": [
        "Here is the code to run the simulation (generate the graph and obtain timing statistics). To keep the code running time reasonable, I decided to only compare the running times for the \"adjacency list\" and \"adjacency forest\" (aka \"adjacency trees\") graph data structures.  The parameter \"n\" is the number of vertices (fixed at 1000) and the parameter \"k\" is the average vertex degree (which we will vary in this exercise). For speed, I have turned off replication (by setting nrep=1 and nsubrep=1), but you can try it with larger values of nrep to see if the results hold up (I expect they will):"
      ]
    },
    {
      "cell_type": "code",
      "metadata": {
        "id": "Fxy245qRcc9X"
      },
      "source": [
        "def do_sim(n, k):\n",
        "\n",
        "    retlist = []\n",
        "\n",
        "    nrep = 1\n",
        "    nsubrep = 1\n",
        "\n",
        "    for _ in range(nrep):\n",
        "\n",
        "        # make the random undirected graph with n vertices and degree k\n",
        "        g =\n",
        "\n",
        "        # get the graph in three different representations\n",
        "        g_matrix =\n",
        "\n",
        "        g_adj_list =\n",
        "\n",
        "        g_bst_forest =\n",
        "\n",
        "        start_time =\n",
        "\n",
        "        # inner loop only needs to go from i+1 to n, since the graph is undirected\n",
        "        for _ in range(nsubrep):\n",
        "            for i in range(0, n):\n",
        "                for j in range(i+1, n):\n",
        "                    # call find_matrix with g_matrix, i, j\n",
        "\n",
        "        matrix_elapsed =\n",
        "\n",
        "        start_time = timeit.default_timer()\n",
        "\n",
        "        # inner loop only needs to go from i+1 to n, since the graph is undirected\n",
        "        for _ in range(nsubrep):\n",
        "            for i in range(0, n):\n",
        "                for j in range(i+1, n):\n",
        "                    # call find_adj_list with g_adj_list, i, j\n",
        "\n",
        "        adjlist_elapsed =\n",
        "\n",
        "        start_time = timeit.default_timer()\n",
        "\n",
        "        # inner loop only needs to go from i+1 to n, since the graph is undirected\n",
        "        for _ in range(nsubrep):\n",
        "            for i in range(0, n):\n",
        "                for j in range(i+1, n):\n",
        "                    # test for j in tree at the ith element of g_bst_forest\n",
        "\n",
        "        forest_elapsed =\n",
        "\n",
        "        retlist.append([matrix_elapsed, adjlist_elapsed, forest_elapsed])\n",
        "\n",
        "        # get the results in seconds, and make sure to divide by number of vertex pairs\n",
        "    return 1000000*np.mean(np.array(retlist), axis=0)/(n*(n-1)/2)"
      ],
      "execution_count": null,
      "outputs": []
    },
    {
      "cell_type": "markdown",
      "metadata": {
        "id": "Z3639enKcc9c"
      },
      "source": [
        "Compare the results for differing average degree (i.e., *k*) values.  At *k*=50, the \"adjacency forest\" method (aka \"adjacency tree\" method) is a bit faster than the adjacency list method. By *k*=100, the \"adjacency forest\" method is faster than the \"adjacency list\" method."
      ]
    },
    {
      "cell_type": "code",
      "metadata": {
        "id": "IB1B_XUDcc9e",
        "outputId": "f7398e62-fe31-41a3-e768-dcf15cb9d468",
        "colab": {
          "base_uri": "https://localhost:8080/",
          "height": 34
        }
      },
      "source": [
        "do_sim(1000, 5)"
      ],
      "execution_count": null,
      "outputs": [
        {
          "output_type": "execute_result",
          "data": {
            "text/plain": [
              "array([1.0216308 , 0.26140724, 1.215239  ])"
            ]
          },
          "metadata": {
            "tags": []
          },
          "execution_count": 21
        }
      ]
    },
    {
      "cell_type": "code",
      "metadata": {
        "id": "RrXm49R6cc9j",
        "outputId": "2be62fa7-fe8c-42f9-eb66-39308ac7ca47",
        "colab": {
          "base_uri": "https://localhost:8080/",
          "height": 34
        }
      },
      "source": [
        "# do it for 1000, 10"
      ],
      "execution_count": null,
      "outputs": [
        {
          "output_type": "execute_result",
          "data": {
            "text/plain": [
              "array([1.0185204 , 0.40096193, 1.26470464])"
            ]
          },
          "metadata": {
            "tags": []
          },
          "execution_count": 22
        }
      ]
    },
    {
      "cell_type": "code",
      "metadata": {
        "id": "vG-khegOcc9n",
        "outputId": "a6df16ad-3790-4018-b8f7-decc440851b9",
        "colab": {
          "base_uri": "https://localhost:8080/",
          "height": 34
        }
      },
      "source": [
        "# do it for 1000, 20"
      ],
      "execution_count": null,
      "outputs": [
        {
          "output_type": "execute_result",
          "data": {
            "text/plain": [
              "array([1.0037446 , 0.69232016, 1.42436044])"
            ]
          },
          "metadata": {
            "tags": []
          },
          "execution_count": 23
        }
      ]
    },
    {
      "cell_type": "code",
      "metadata": {
        "id": "h37lBmQpcc9s",
        "outputId": "db5c39b9-197c-4a79-9ef4-b11e537a6b31",
        "colab": {
          "base_uri": "https://localhost:8080/",
          "height": 34
        }
      },
      "source": [
        "# do it for 1000, 50"
      ],
      "execution_count": null,
      "outputs": [
        {
          "output_type": "execute_result",
          "data": {
            "text/plain": [
              "array([0.97303372, 1.36309764, 1.48793797])"
            ]
          },
          "metadata": {
            "tags": []
          },
          "execution_count": 24
        }
      ]
    },
    {
      "cell_type": "code",
      "metadata": {
        "id": "bSgDBij5cc9x",
        "outputId": "be81ffb7-9c17-48b7-96c2-a5859219e374",
        "colab": {
          "base_uri": "https://localhost:8080/",
          "height": 34
        }
      },
      "source": [
        "# do it for 1000, 100"
      ],
      "execution_count": null,
      "outputs": [
        {
          "output_type": "execute_result",
          "data": {
            "text/plain": [
              "array([1.00155867, 2.38815535, 1.56123593])"
            ]
          },
          "metadata": {
            "tags": []
          },
          "execution_count": 25
        }
      ]
    }
  ]
}