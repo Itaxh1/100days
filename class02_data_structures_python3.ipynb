{
  "nbformat": 4,
  "nbformat_minor": 0,
  "metadata": {
    "kernelspec": {
      "display_name": "Python 3",
      "language": "python",
      "name": "python3"
    },
    "language_info": {
      "codemirror_mode": {
        "name": "ipython",
        "version": 3
      },
      "file_extension": ".py",
      "mimetype": "text/x-python",
      "name": "python",
      "nbconvert_exporter": "python",
      "pygments_lexer": "ipython3",
      "version": "3.7.4"
    },
    "colab": {
      "provenance": [],
      "include_colab_link": true
    }
  },
  "cells": [
    {
      "cell_type": "markdown",
      "metadata": {
        "id": "view-in-github",
        "colab_type": "text"
      },
      "source": [
        "<a href=\"https://colab.research.google.com/github/Itaxh1/100days/blob/main/class02_data_structures_python3.ipynb\" target=\"_parent\"><img src=\"https://colab.research.google.com/assets/colab-badge.svg\" alt=\"Open In Colab\"/></a>"
      ]
    },
    {
      "cell_type": "markdown",
      "metadata": {
        "id": "UJ8spsITcl4J"
      },
      "source": [
        "# CSX46 Class Notebook 2 - Data Structures\n"
      ]
    },
    {
      "cell_type": "markdown",
      "metadata": {
        "id": "BCCJMQsmcl4L"
      },
      "source": [
        "## Part 1: Comparing running times for neighbor enumeration\n",
        "\n",
        "In this notebook we will measure the running time for enumerating the neighbor vertices for three different data structures for representing an undirected graph:\n",
        "- adjacency matrix\n",
        "- adjacency list\n",
        "- edge list\n",
        "\n",
        "Let's assume that each vertex is labeled with a unique integer number.  So if there are *N* vertices, the vertices are labeled 0, 2, 3, 4, ..., *N*-1.\n",
        "\n",
        "First, we will import all of the Python modules that we will need for this exercise:\n",
        "note how we assign a short name, \"np\" to the numpy module. This will save typing."
      ]
    },
    {
      "cell_type": "markdown",
      "metadata": {
        "id": "NyLdOwQydNed"
      },
      "source": [
        "Import the builtin python modules that we will need in Part 1:"
      ]
    },
    {
      "cell_type": "code",
      "metadata": {
        "id": "UOcLATAbcl4N"
      },
      "source": [
        "import numpy as np\n",
        "import timeit"
      ],
      "execution_count": 1,
      "outputs": []
    },
    {
      "cell_type": "markdown",
      "metadata": {
        "id": "-aAOmLe1ftKY"
      },
      "source": [
        "Install pycairo so that we can plot in igraph"
      ]
    },
    {
      "cell_type": "code",
      "metadata": {
        "id": "bWx8mp65fxsG",
        "colab": {
          "base_uri": "https://localhost:8080/",
          "height": 0
        },
        "outputId": "99f4aa6a-ac8d-439f-c080-45fcede740cc"
      },
      "source": [
        "!apt-get install libcairo2-dev libjpeg-dev libgif-dev\n",
        "!pip install pycairo\n",
        "import cairo"
      ],
      "execution_count": 2,
      "outputs": [
        {
          "output_type": "stream",
          "name": "stdout",
          "text": [
            "Reading package lists... Done\n",
            "Building dependency tree... Done\n",
            "Reading state information... Done\n",
            "libgif-dev is already the newest version (5.1.9-2build2).\n",
            "libgif-dev set to manually installed.\n",
            "libjpeg-dev is already the newest version (8c-2ubuntu10).\n",
            "libjpeg-dev set to manually installed.\n",
            "The following additional packages will be installed:\n",
            "  libblkid-dev libcairo-script-interpreter2 libffi-dev libglib2.0-dev libglib2.0-dev-bin libice-dev\n",
            "  liblzo2-2 libmount-dev libpixman-1-dev libselinux1-dev libsepol-dev libsm-dev libxcb-render0-dev\n",
            "  libxcb-shm0-dev\n",
            "Suggested packages:\n",
            "  libcairo2-doc libgirepository1.0-dev libglib2.0-doc libgdk-pixbuf2.0-bin | libgdk-pixbuf2.0-dev\n",
            "  libxml2-utils libice-doc libsm-doc\n",
            "The following NEW packages will be installed:\n",
            "  libblkid-dev libcairo-script-interpreter2 libcairo2-dev libffi-dev libglib2.0-dev\n",
            "  libglib2.0-dev-bin libice-dev liblzo2-2 libmount-dev libpixman-1-dev libselinux1-dev libsepol-dev\n",
            "  libsm-dev libxcb-render0-dev libxcb-shm0-dev\n",
            "0 upgraded, 15 newly installed, 0 to remove and 30 not upgraded.\n",
            "Need to get 3,839 kB of archives.\n",
            "After this operation, 19.8 MB of additional disk space will be used.\n",
            "Get:1 http://archive.ubuntu.com/ubuntu jammy/main amd64 liblzo2-2 amd64 2.10-2build3 [53.7 kB]\n",
            "Get:2 http://archive.ubuntu.com/ubuntu jammy/main amd64 libcairo-script-interpreter2 amd64 1.16.0-5ubuntu2 [62.0 kB]\n",
            "Get:3 http://archive.ubuntu.com/ubuntu jammy/main amd64 libice-dev amd64 2:1.0.10-1build2 [51.4 kB]\n",
            "Get:4 http://archive.ubuntu.com/ubuntu jammy/main amd64 libsm-dev amd64 2:1.2.3-1build2 [18.1 kB]\n",
            "Get:5 http://archive.ubuntu.com/ubuntu jammy-updates/main amd64 libpixman-1-dev amd64 0.40.0-1ubuntu0.22.04.1 [280 kB]\n",
            "Get:6 http://archive.ubuntu.com/ubuntu jammy/main amd64 libxcb-render0-dev amd64 1.14-3ubuntu3 [19.6 kB]\n",
            "Get:7 http://archive.ubuntu.com/ubuntu jammy/main amd64 libxcb-shm0-dev amd64 1.14-3ubuntu3 [6,848 B]\n",
            "Get:8 http://archive.ubuntu.com/ubuntu jammy/main amd64 libffi-dev amd64 3.4.2-4 [63.7 kB]\n",
            "Get:9 http://archive.ubuntu.com/ubuntu jammy-updates/main amd64 libglib2.0-dev-bin amd64 2.72.4-0ubuntu2.2 [117 kB]\n",
            "Get:10 http://archive.ubuntu.com/ubuntu jammy/main amd64 libblkid-dev amd64 2.37.2-4ubuntu3 [185 kB]\n",
            "Get:11 http://archive.ubuntu.com/ubuntu jammy/main amd64 libsepol-dev amd64 3.3-1build1 [378 kB]\n",
            "Get:12 http://archive.ubuntu.com/ubuntu jammy/main amd64 libselinux1-dev amd64 3.3-1build2 [158 kB]\n",
            "Get:13 http://archive.ubuntu.com/ubuntu jammy/main amd64 libmount-dev amd64 2.37.2-4ubuntu3 [14.5 kB]\n",
            "Get:14 http://archive.ubuntu.com/ubuntu jammy-updates/main amd64 libglib2.0-dev amd64 2.72.4-0ubuntu2.2 [1,739 kB]\n",
            "Get:15 http://archive.ubuntu.com/ubuntu jammy/main amd64 libcairo2-dev amd64 1.16.0-5ubuntu2 [692 kB]\n",
            "Fetched 3,839 kB in 0s (15.9 MB/s)\n",
            "Selecting previously unselected package liblzo2-2:amd64.\n",
            "(Reading database ... 121658 files and directories currently installed.)\n",
            "Preparing to unpack .../00-liblzo2-2_2.10-2build3_amd64.deb ...\n",
            "Unpacking liblzo2-2:amd64 (2.10-2build3) ...\n",
            "Selecting previously unselected package libcairo-script-interpreter2:amd64.\n",
            "Preparing to unpack .../01-libcairo-script-interpreter2_1.16.0-5ubuntu2_amd64.deb ...\n",
            "Unpacking libcairo-script-interpreter2:amd64 (1.16.0-5ubuntu2) ...\n",
            "Selecting previously unselected package libice-dev:amd64.\n",
            "Preparing to unpack .../02-libice-dev_2%3a1.0.10-1build2_amd64.deb ...\n",
            "Unpacking libice-dev:amd64 (2:1.0.10-1build2) ...\n",
            "Selecting previously unselected package libsm-dev:amd64.\n",
            "Preparing to unpack .../03-libsm-dev_2%3a1.2.3-1build2_amd64.deb ...\n",
            "Unpacking libsm-dev:amd64 (2:1.2.3-1build2) ...\n",
            "Selecting previously unselected package libpixman-1-dev:amd64.\n",
            "Preparing to unpack .../04-libpixman-1-dev_0.40.0-1ubuntu0.22.04.1_amd64.deb ...\n",
            "Unpacking libpixman-1-dev:amd64 (0.40.0-1ubuntu0.22.04.1) ...\n",
            "Selecting previously unselected package libxcb-render0-dev:amd64.\n",
            "Preparing to unpack .../05-libxcb-render0-dev_1.14-3ubuntu3_amd64.deb ...\n",
            "Unpacking libxcb-render0-dev:amd64 (1.14-3ubuntu3) ...\n",
            "Selecting previously unselected package libxcb-shm0-dev:amd64.\n",
            "Preparing to unpack .../06-libxcb-shm0-dev_1.14-3ubuntu3_amd64.deb ...\n",
            "Unpacking libxcb-shm0-dev:amd64 (1.14-3ubuntu3) ...\n",
            "Selecting previously unselected package libffi-dev:amd64.\n",
            "Preparing to unpack .../07-libffi-dev_3.4.2-4_amd64.deb ...\n",
            "Unpacking libffi-dev:amd64 (3.4.2-4) ...\n",
            "Selecting previously unselected package libglib2.0-dev-bin.\n",
            "Preparing to unpack .../08-libglib2.0-dev-bin_2.72.4-0ubuntu2.2_amd64.deb ...\n",
            "Unpacking libglib2.0-dev-bin (2.72.4-0ubuntu2.2) ...\n",
            "Selecting previously unselected package libblkid-dev:amd64.\n",
            "Preparing to unpack .../09-libblkid-dev_2.37.2-4ubuntu3_amd64.deb ...\n",
            "Unpacking libblkid-dev:amd64 (2.37.2-4ubuntu3) ...\n",
            "Selecting previously unselected package libsepol-dev:amd64.\n",
            "Preparing to unpack .../10-libsepol-dev_3.3-1build1_amd64.deb ...\n",
            "Unpacking libsepol-dev:amd64 (3.3-1build1) ...\n",
            "Selecting previously unselected package libselinux1-dev:amd64.\n",
            "Preparing to unpack .../11-libselinux1-dev_3.3-1build2_amd64.deb ...\n",
            "Unpacking libselinux1-dev:amd64 (3.3-1build2) ...\n",
            "Selecting previously unselected package libmount-dev:amd64.\n",
            "Preparing to unpack .../12-libmount-dev_2.37.2-4ubuntu3_amd64.deb ...\n",
            "Unpacking libmount-dev:amd64 (2.37.2-4ubuntu3) ...\n",
            "Selecting previously unselected package libglib2.0-dev:amd64.\n",
            "Preparing to unpack .../13-libglib2.0-dev_2.72.4-0ubuntu2.2_amd64.deb ...\n",
            "Unpacking libglib2.0-dev:amd64 (2.72.4-0ubuntu2.2) ...\n",
            "Selecting previously unselected package libcairo2-dev:amd64.\n",
            "Preparing to unpack .../14-libcairo2-dev_1.16.0-5ubuntu2_amd64.deb ...\n",
            "Unpacking libcairo2-dev:amd64 (1.16.0-5ubuntu2) ...\n",
            "Setting up libglib2.0-dev-bin (2.72.4-0ubuntu2.2) ...\n",
            "Setting up libblkid-dev:amd64 (2.37.2-4ubuntu3) ...\n",
            "Setting up libpixman-1-dev:amd64 (0.40.0-1ubuntu0.22.04.1) ...\n",
            "Setting up libice-dev:amd64 (2:1.0.10-1build2) ...\n",
            "Setting up libsm-dev:amd64 (2:1.2.3-1build2) ...\n",
            "Setting up liblzo2-2:amd64 (2.10-2build3) ...\n",
            "Setting up libffi-dev:amd64 (3.4.2-4) ...\n",
            "Setting up libxcb-shm0-dev:amd64 (1.14-3ubuntu3) ...\n",
            "Setting up libsepol-dev:amd64 (3.3-1build1) ...\n",
            "Setting up libxcb-render0-dev:amd64 (1.14-3ubuntu3) ...\n",
            "Setting up libcairo-script-interpreter2:amd64 (1.16.0-5ubuntu2) ...\n",
            "Setting up libselinux1-dev:amd64 (3.3-1build2) ...\n",
            "Setting up libmount-dev:amd64 (2.37.2-4ubuntu3) ...\n",
            "Setting up libglib2.0-dev:amd64 (2.72.4-0ubuntu2.2) ...\n",
            "Processing triggers for libglib2.0-0:amd64 (2.72.4-0ubuntu2.2) ...\n",
            "Processing triggers for libc-bin (2.35-0ubuntu3.4) ...\n",
            "/sbin/ldconfig.real: /usr/local/lib/libtbbbind_2_0.so.3 is not a symbolic link\n",
            "\n",
            "/sbin/ldconfig.real: /usr/local/lib/libtbbmalloc_proxy.so.2 is not a symbolic link\n",
            "\n",
            "/sbin/ldconfig.real: /usr/local/lib/libtbbbind_2_5.so.3 is not a symbolic link\n",
            "\n",
            "/sbin/ldconfig.real: /usr/local/lib/libtbbmalloc.so.2 is not a symbolic link\n",
            "\n",
            "/sbin/ldconfig.real: /usr/local/lib/libtbbbind.so.3 is not a symbolic link\n",
            "\n",
            "/sbin/ldconfig.real: /usr/local/lib/libtbb.so.12 is not a symbolic link\n",
            "\n",
            "Processing triggers for man-db (2.10.2-1) ...\n",
            "Setting up libcairo2-dev:amd64 (1.16.0-5ubuntu2) ...\n",
            "Collecting pycairo\n",
            "  Downloading pycairo-1.25.1.tar.gz (347 kB)\n",
            "\u001b[2K     \u001b[90m━━━━━━━━━━━━━━━━━━━━━━━━━━━━━━━━━━━━━━━━\u001b[0m \u001b[32m347.1/347.1 kB\u001b[0m \u001b[31m3.5 MB/s\u001b[0m eta \u001b[36m0:00:00\u001b[0m\n",
            "\u001b[?25h  Installing build dependencies ... \u001b[?25l\u001b[?25hdone\n",
            "  Getting requirements to build wheel ... \u001b[?25l\u001b[?25hdone\n",
            "  Installing backend dependencies ... \u001b[?25l\u001b[?25hdone\n",
            "  Preparing metadata (pyproject.toml) ... \u001b[?25l\u001b[?25hdone\n",
            "Building wheels for collected packages: pycairo\n",
            "  Building wheel for pycairo (pyproject.toml) ... \u001b[?25l\u001b[?25hdone\n",
            "  Created wheel for pycairo: filename=pycairo-1.25.1-cp310-cp310-linux_x86_64.whl size=320919 sha256=d83b900239a784807bb226d77e92c0386a0002422cc1d41ad62337902b85f9e1\n",
            "  Stored in directory: /root/.cache/pip/wheels/d6/d8/c4/9bb1adbc349a349ed4718627f0afffeae26d9982060568cd30\n",
            "Successfully built pycairo\n",
            "Installing collected packages: pycairo\n",
            "Successfully installed pycairo-1.25.1\n"
          ]
        }
      ]
    },
    {
      "cell_type": "markdown",
      "metadata": {
        "id": "lVVraTA-dDqK"
      },
      "source": [
        "Install `python-igraph` and import it (see [Class Session 1 notebook](https://colab.research.google.com/drive/1LbdlGfkqmr726UpUqPP9_z2pBIVm200n?usp=sharing) for details):"
      ]
    },
    {
      "cell_type": "code",
      "metadata": {
        "id": "ElP847CDdInb",
        "colab": {
          "base_uri": "https://localhost:8080/",
          "height": 0
        },
        "outputId": "5d1ddfe6-1a73-4349-e8e1-a4cd3369e1e5"
      },
      "source": [
        "!pip install python-igraph\n",
        "import igraph"
      ],
      "execution_count": 3,
      "outputs": [
        {
          "output_type": "stream",
          "name": "stdout",
          "text": [
            "Collecting python-igraph\n",
            "  Downloading python_igraph-0.11.3-py3-none-any.whl (9.1 kB)\n",
            "Collecting igraph==0.11.3 (from python-igraph)\n",
            "  Downloading igraph-0.11.3-cp39-abi3-manylinux_2_17_x86_64.manylinux2014_x86_64.whl (3.3 MB)\n",
            "\u001b[2K     \u001b[90m━━━━━━━━━━━━━━━━━━━━━━━━━━━━━━━━━━━━━━━━\u001b[0m \u001b[32m3.3/3.3 MB\u001b[0m \u001b[31m34.1 MB/s\u001b[0m eta \u001b[36m0:00:00\u001b[0m\n",
            "\u001b[?25hCollecting texttable>=1.6.2 (from igraph==0.11.3->python-igraph)\n",
            "  Downloading texttable-1.7.0-py2.py3-none-any.whl (10 kB)\n",
            "Installing collected packages: texttable, igraph, python-igraph\n",
            "Successfully installed igraph-0.11.3 python-igraph-0.11.3 texttable-1.7.0\n"
          ]
        }
      ]
    },
    {
      "cell_type": "markdown",
      "metadata": {
        "id": "ujxZtvkfcl4Z"
      },
      "source": [
        "Now, define a function that returns the index numbers of the neighbors of a vertex `i`, when the\n",
        "graph is stored in adjacency matrix format.  So your function will accept as an input a *N*⨉*N* numpy matrix. The function should return a list (of index numbers of the neighbors)."
      ]
    },
    {
      "cell_type": "code",
      "metadata": {
        "id": "9khBaUoscl4b"
      },
      "source": [
        "def enumerate_matrix(gmat, i):\n",
        "    gmat_row = gmat[i, :]\n",
        "    indices_of_nonzero_columns = np.nonzero(gmat_row)[1]\n",
        "    return indices_of_nonzero_columns.tolist()"
      ],
      "execution_count": 4,
      "outputs": []
    },
    {
      "cell_type": "code",
      "metadata": {
        "id": "7txqkc8SVQuo",
        "colab": {
          "base_uri": "https://localhost:8080/",
          "height": 0
        },
        "outputId": "1b031186-0974-4ad6-916b-ecc79169a385"
      },
      "source": [
        "import numpy as np\n",
        "enumerate_matrix(np.matrix([[0,1],[1,0]]), 0)"
      ],
      "execution_count": 5,
      "outputs": [
        {
          "output_type": "execute_result",
          "data": {
            "text/plain": [
              "[1]"
            ]
          },
          "metadata": {},
          "execution_count": 5
        }
      ]
    },
    {
      "cell_type": "markdown",
      "metadata": {
        "id": "FU9Nfy8jcl4i"
      },
      "source": [
        "Define a function that enumerates the neighbors of a vertex i, when the\n",
        "graph is stored in adjacency list format (a list of lists). The function should return a list (of index numbers of the neighbors)."
      ]
    },
    {
      "cell_type": "code",
      "metadata": {
        "id": "tvi4mkfwcl4k"
      },
      "source": [
        "def enumerate_adj_list(adj_list, i):\n",
        "    return adj_list[i]"
      ],
      "execution_count": 6,
      "outputs": []
    },
    {
      "cell_type": "markdown",
      "metadata": {
        "id": "thnWmhlScl4p"
      },
      "source": [
        "Define a function that enumerates the neighbors of a vertex i, when the\n",
        "graph is stored in edge-list format (a numpy array of length-two-lists); use `numpy.where` and `numpy.unique`. The function should return a list (of index numbers of the neighbors)."
      ]
    },
    {
      "cell_type": "code",
      "metadata": {
        "id": "ydIMcHHpcl4q"
      },
      "source": [
        "def enumerate_edge_list(edge_list, i):\n",
        "    inds1 = np.where(edge_list[:,0] == i)[0]\n",
        "    elems1 = edge_list[inds1, 1].tolist()\n",
        "    inds2 = np.where(edge_list[:,1] == i)[0]\n",
        "    elems2 = edge_list[inds2, 0].tolist()\n",
        "    return np.unique(elems1 + elems2).tolist()"
      ],
      "execution_count": 7,
      "outputs": []
    },
    {
      "cell_type": "markdown",
      "metadata": {
        "id": "pvQywTevcl4w"
      },
      "source": [
        "In this notebook, we are going to create some random networks. We'll use the Barabasi-Albert method, which has two parameters, *n* and *m* (where *n* > *m*). (For more information on the Barabasi-Albert model, see http://barabasi.com/f/622.pdf). In `igraph`, the `igraph.Graph.Barabasi` method will generate a single connected undirected graph with *n* vertices and where the total number *E* of edges is:\n",
        "\n",
        "    E = nm - (m^2 / 2) - m/2\n",
        "    \n",
        "Let's plot a Barabasi-Albert graph generated using *n*=5 and *m*=3:"
      ]
    },
    {
      "cell_type": "code",
      "metadata": {
        "id": "cM0o3E7Wcl4y",
        "colab": {
          "base_uri": "https://localhost:8080/",
          "height": 287
        },
        "outputId": "4550d4d0-a155-4fb7-8601-74222fb5b37e"
      },
      "source": [
        "igraph.drawing.plot(igraph.Graph.Barabasi(5,3), bbox=[0,0,200,200])"
      ],
      "execution_count": 8,
      "outputs": [
        {
          "output_type": "execute_result",
          "data": {
            "text/plain": [
              "<igraph.drawing.cairo.plot.CairoPlot at 0x795b7df3a5f0>"
            ],
            "image/svg+xml": "<?xml version=\"1.0\" encoding=\"UTF-8\"?>\n<svg xmlns=\"http://www.w3.org/2000/svg\" xmlns:xlink=\"http://www.w3.org/1999/xlink\" width=\"200pt\" height=\"200pt\" viewBox=\"0 0 200 200\" version=\"1.1\">\n<g id=\"surface2\">\n<rect x=\"0\" y=\"0\" width=\"200\" height=\"200\" style=\"fill:rgb(100%,100%,100%);fill-opacity:1;stroke:none;\"/>\n<path style=\"fill:none;stroke-width:1;stroke-linecap:butt;stroke-linejoin:miter;stroke:rgb(26.666667%,26.666667%,26.666667%);stroke-opacity:1;stroke-miterlimit:10;\" d=\"M 180 103.652344 L 119.707031 180 \"/>\n<path style=\"fill:none;stroke-width:1;stroke-linecap:butt;stroke-linejoin:miter;stroke:rgb(26.666667%,26.666667%,26.666667%);stroke-opacity:1;stroke-miterlimit:10;\" d=\"M 180 103.652344 L 26.285156 146.160156 \"/>\n<path style=\"fill:none;stroke-width:1;stroke-linecap:butt;stroke-linejoin:miter;stroke:rgb(26.666667%,26.666667%,26.666667%);stroke-opacity:1;stroke-miterlimit:10;\" d=\"M 119.707031 180 L 26.285156 146.160156 \"/>\n<path style=\"fill:none;stroke-width:1;stroke-linecap:butt;stroke-linejoin:miter;stroke:rgb(26.666667%,26.666667%,26.666667%);stroke-opacity:1;stroke-miterlimit:10;\" d=\"M 180 103.652344 L 20 51.125 \"/>\n<path style=\"fill:none;stroke-width:1;stroke-linecap:butt;stroke-linejoin:miter;stroke:rgb(26.666667%,26.666667%,26.666667%);stroke-opacity:1;stroke-miterlimit:10;\" d=\"M 119.707031 180 L 20 51.125 \"/>\n<path style=\"fill:none;stroke-width:1;stroke-linecap:butt;stroke-linejoin:miter;stroke:rgb(26.666667%,26.666667%,26.666667%);stroke-opacity:1;stroke-miterlimit:10;\" d=\"M 26.285156 146.160156 L 20 51.125 \"/>\n<path style=\"fill:none;stroke-width:1;stroke-linecap:butt;stroke-linejoin:miter;stroke:rgb(26.666667%,26.666667%,26.666667%);stroke-opacity:1;stroke-miterlimit:10;\" d=\"M 119.707031 180 L 132.5625 20 \"/>\n<path style=\"fill:none;stroke-width:1;stroke-linecap:butt;stroke-linejoin:miter;stroke:rgb(26.666667%,26.666667%,26.666667%);stroke-opacity:1;stroke-miterlimit:10;\" d=\"M 26.285156 146.160156 L 132.5625 20 \"/>\n<path style=\"fill:none;stroke-width:1;stroke-linecap:butt;stroke-linejoin:miter;stroke:rgb(26.666667%,26.666667%,26.666667%);stroke-opacity:1;stroke-miterlimit:10;\" d=\"M 180 103.652344 L 132.5625 20 \"/>\n<path style=\"fill-rule:nonzero;fill:rgb(100%,0%,0%);fill-opacity:1;stroke-width:1;stroke-linecap:butt;stroke-linejoin:miter;stroke:rgb(0%,0%,0%);stroke-opacity:1;stroke-miterlimit:10;\" d=\"M 190 103.652344 C 190 109.175781 185.523438 113.652344 180 113.652344 C 174.476562 113.652344 170 109.175781 170 103.652344 C 170 98.132812 174.476562 93.652344 180 93.652344 C 185.523438 93.652344 190 98.132812 190 103.652344 \"/>\n<path style=\"fill-rule:nonzero;fill:rgb(100%,0%,0%);fill-opacity:1;stroke-width:1;stroke-linecap:butt;stroke-linejoin:miter;stroke:rgb(0%,0%,0%);stroke-opacity:1;stroke-miterlimit:10;\" d=\"M 129.707031 180 C 129.707031 185.523438 125.230469 190 119.707031 190 C 114.183594 190 109.707031 185.523438 109.707031 180 C 109.707031 174.476562 114.183594 170 119.707031 170 C 125.230469 170 129.707031 174.476562 129.707031 180 \"/>\n<path style=\"fill-rule:nonzero;fill:rgb(100%,0%,0%);fill-opacity:1;stroke-width:1;stroke-linecap:butt;stroke-linejoin:miter;stroke:rgb(0%,0%,0%);stroke-opacity:1;stroke-miterlimit:10;\" d=\"M 36.285156 146.160156 C 36.285156 151.683594 31.808594 156.160156 26.285156 156.160156 C 20.765625 156.160156 16.285156 151.683594 16.285156 146.160156 C 16.285156 140.636719 20.765625 136.160156 26.285156 136.160156 C 31.808594 136.160156 36.285156 140.636719 36.285156 146.160156 \"/>\n<path style=\"fill-rule:nonzero;fill:rgb(100%,0%,0%);fill-opacity:1;stroke-width:1;stroke-linecap:butt;stroke-linejoin:miter;stroke:rgb(0%,0%,0%);stroke-opacity:1;stroke-miterlimit:10;\" d=\"M 30 51.125 C 30 56.648438 25.523438 61.125 20 61.125 C 14.476562 61.125 10 56.648438 10 51.125 C 10 45.605469 14.476562 41.125 20 41.125 C 25.523438 41.125 30 45.605469 30 51.125 \"/>\n<path style=\"fill-rule:nonzero;fill:rgb(100%,0%,0%);fill-opacity:1;stroke-width:1;stroke-linecap:butt;stroke-linejoin:miter;stroke:rgb(0%,0%,0%);stroke-opacity:1;stroke-miterlimit:10;\" d=\"M 142.5625 20 C 142.5625 25.523438 138.085938 30 132.5625 30 C 127.039062 30 122.5625 25.523438 122.5625 20 C 122.5625 14.476562 127.039062 10 132.5625 10 C 138.085938 10 142.5625 14.476562 142.5625 20 \"/>\n</g>\n</svg>\n"
          },
          "metadata": {
            "image/svg+xml": {
              "isolated": true
            }
          },
          "execution_count": 8
        }
      ]
    },
    {
      "cell_type": "markdown",
      "metadata": {
        "id": "EcepnZTQcl45"
      },
      "source": [
        "Now we need to write a simulation funtion that generates random graphs and enumerates all neighbors of each vertex in the graph (while computing running time), for each of three different graph data structures (adjacency matrix, adjacency list, and edge list). The function's sole argument \"n\" is the number of vertices.\n",
        "It returns a length-three list containing the average running time for enumerating the neighbor vertices of a vertex in the graph."
      ]
    },
    {
      "cell_type": "code",
      "metadata": {
        "id": "lTTwKp8Acl45"
      },
      "source": [
        "def do_sim_ms(n):\n",
        "\n",
        "    retlist = []\n",
        "\n",
        "    nrep = 10\n",
        "    nsubrep = 10\n",
        "\n",
        "    # this is (sort of) a Python way of doing the R function \"replicate\":\n",
        "    for _ in range(nrep):\n",
        "\n",
        "        # make a random undirected graph with fixed (average) vertex degree = 5\n",
        "        g = igraph.Graph.Barabasi(n, 5)\n",
        "\n",
        "        # get the graph in three different representations\n",
        "        g_matrix = np.matrix(g.get_adjacency().data)\n",
        "        g_adj_list = g.get_adjlist()\n",
        "        g_edge_list = np.array(g.get_edgelist())\n",
        "\n",
        "        start_time = timeit.default_timer()\n",
        "\n",
        "        for _ in range(nsubrep):\n",
        "            for i in range(0, n):\n",
        "                enumerate_matrix(g_matrix, i)\n",
        "\n",
        "        matrix_elapsed = timeit.default_timer() - start_time\n",
        "\n",
        "        start_time = timeit.default_timer()\n",
        "\n",
        "        for _ in range(nsubrep):\n",
        "             for i in range(0, n):\n",
        "                enumerate_adj_list(g_adj_list, i)\n",
        "\n",
        "        adjlist_elapsed = timeit.default_timer() - start_time\n",
        "\n",
        "        start_time = timeit.default_timer()\n",
        "\n",
        "        for _ in range(nsubrep):\n",
        "             for i in range(0, n):\n",
        "                enumerate_edge_list(g_edge_list, i)\n",
        "\n",
        "        edgelist_elapsed = timeit.default_timer() - start_time\n",
        "\n",
        "        retlist.append([matrix_elapsed, adjlist_elapsed, edgelist_elapsed])\n",
        "\n",
        "        resarray = 1000.0 * np.mean(np.array(retlist), axis=0)/n\n",
        "\n",
        "        resdict = {'adjacency matrix': resarray[0],\n",
        "                   'adjacency list': resarray[1],\n",
        "                   'edge list': resarray[2]}\n",
        "        # average over replicates and then\n",
        "        # divide by n so that the running time results are on a per-vertex basis\n",
        "    return resdict"
      ],
      "execution_count": 9,
      "outputs": []
    },
    {
      "cell_type": "markdown",
      "metadata": {
        "id": "of_nsx6jcl4-"
      },
      "source": [
        "A simulation with 1000 vertices clearly shows that adjacency list is fastest:"
      ]
    },
    {
      "cell_type": "code",
      "metadata": {
        "id": "mYCSjEcXcl4-",
        "colab": {
          "base_uri": "https://localhost:8080/",
          "height": 0
        },
        "outputId": "7987554f-019b-4347-a0bf-f9ce77b1e3f2"
      },
      "source": [
        "do_sim_ms(1000)"
      ],
      "execution_count": 10,
      "outputs": [
        {
          "output_type": "execute_result",
          "data": {
            "text/plain": [
              "{'adjacency matrix': 0.18432938149999814,\n",
              " 'adjacency list': 0.002663349800000958,\n",
              " 'edge list': 0.6556445421999996}"
            ]
          },
          "metadata": {},
          "execution_count": 10
        }
      ]
    },
    {
      "cell_type": "markdown",
      "metadata": {
        "id": "avsjanUycl5E"
      },
      "source": [
        "Now let's double \"n\". We see the expected behavior, with the running time for the adjacency-matrix and edge-list formats going up when we increase \"n\", but there is hardly any change in the running time for the graph stored in adjacency list format:"
      ]
    },
    {
      "cell_type": "code",
      "metadata": {
        "id": "ygIDyMfxcl5E",
        "colab": {
          "base_uri": "https://localhost:8080/",
          "height": 0
        },
        "outputId": "feb05448-7fa7-41fc-a4bc-859daf2e59a2"
      },
      "source": [
        "do_sim_ms(2000)"
      ],
      "execution_count": 11,
      "outputs": [
        {
          "output_type": "execute_result",
          "data": {
            "text/plain": [
              "{'adjacency matrix': 0.19998671604999743,\n",
              " 'adjacency list': 0.0016538091000008136,\n",
              " 'edge list': 0.6504061905500003}"
            ]
          },
          "metadata": {},
          "execution_count": 11
        }
      ]
    },
    {
      "cell_type": "markdown",
      "metadata": {
        "id": "BP_2gxz1cc8h"
      },
      "source": [
        "## Part 2: Comparing running times for the \"find\" operation (introducing \"adjacency forests\")\n",
        "\n",
        "## Exploring the average running time for testing if there is an edge between an arbitrary pair of vertices, for different graph data structures"
      ]
    },
    {
      "cell_type": "markdown",
      "metadata": {
        "id": "6b6Qjs3Zcc8j"
      },
      "source": [
        "In this exercise, we'll compare the asymptotic computational running time for testing if there is an edge between a pair of vertices, averaged over all pairs of vertices in the graph. We'll do it for a series of undirected graphs (each generated using an Barabasi-Albert model), each with 1000 vertices. We will vary the number of edges in the graph; each graph will have a different average number of vertex neighbors for a vertex (i.e., each graph will have a different average vertex degree). We will time how long it takes to test all possible pairs of vertices for whether or not there is an edge between them, for each of four different graph data structures (adjacency matrix, adjacency list, edge list, and adjacency forest)."
      ]
    },
    {
      "cell_type": "markdown",
      "metadata": {
        "id": "ayYT__cecc8l"
      },
      "source": [
        "We'll need the \"bintrees\" python module in order to get an implementation of a binary search tree (AVLTree is the class that we will use)."
      ]
    },
    {
      "cell_type": "code",
      "metadata": {
        "id": "NvU2kuU3ihFJ",
        "colab": {
          "base_uri": "https://localhost:8080/",
          "height": 0
        },
        "outputId": "b324d9cf-8c51-4bdc-d6d1-1c9cd368bb15"
      },
      "source": [
        "!pip install --only-binary=:all: bintrees\n",
        "import bintrees"
      ],
      "execution_count": 12,
      "outputs": [
        {
          "output_type": "stream",
          "name": "stdout",
          "text": [
            "Collecting bintrees\n",
            "  Downloading bintrees-2.0.4-py2.py3-none-any.whl (26 kB)\n",
            "Installing collected packages: bintrees\n",
            "Successfully installed bintrees-2.0.4\n"
          ]
        }
      ]
    },
    {
      "cell_type": "markdown",
      "metadata": {
        "id": "JrR82UOJcc8y"
      },
      "source": [
        "Now we will need to define some functions for testing a pair of vertices to see if they have an edge between them, for each of three different kinds of data structures for representing the graph.\n",
        "\n",
        "First, we need to create a function, `find_matrix`, that accepts an adjacency matrix (`np.matrix`) `gmat` and a row index `i` and a column index `j`, and returns `True` if there is an edge between vertices `i` and `j` (or `False` otherwise). You'll probably want to use array indexing here."
      ]
    },
    {
      "cell_type": "code",
      "metadata": {
        "id": "SYzYfEGucc80"
      },
      "source": [
        "def find_matrix(gmat, i, j):\n",
        "    return (gmat[i,j] == 1)"
      ],
      "execution_count": 13,
      "outputs": []
    },
    {
      "cell_type": "markdown",
      "metadata": {
        "id": "ugHuYyvBcc87"
      },
      "source": [
        "Next, we need to create a function, `find_adj_list`, that accepts an adjacency list `adj_list` (which is actually a list of lists of integer vertex IDs). Your function should return `True` if there is an edge between vertex `i` and vertex `j`, or `False` otherwise). You may wisth to use the built-in keyword `in`."
      ]
    },
    {
      "cell_type": "code",
      "metadata": {
        "id": "ohCxnB0gcc89"
      },
      "source": [
        "def find_adj_list(adj_list, i, j):\n",
        "    return j in adj_list[i]"
      ],
      "execution_count": 14,
      "outputs": []
    },
    {
      "cell_type": "markdown",
      "metadata": {
        "id": "XGvgBXpWcc9C"
      },
      "source": [
        "Next, we need to create a function, `find_edge_list`, that accepts an edge list argument `edge_list` (which is actually a `numpy.array` of lists (each of length two) containing the vertex IDs of vertices that are connected in the graph). Your function should return `True` if there is an edge between vertex `i` and vertex `j`, or `False` otherwise). You will want to use the functions `numpy.where`, `tolist`, and the keyword `in`."
      ]
    },
    {
      "cell_type": "code",
      "metadata": {
        "id": "ZuCpjdG0cc9D"
      },
      "source": [
        "def find_edge_list(edge_list, i, j):\n",
        "    return (([i,j] in edge_list) or ([j,i] in edge_list))"
      ],
      "execution_count": 15,
      "outputs": []
    },
    {
      "cell_type": "markdown",
      "metadata": {
        "id": "jda2qlYWcc9J"
      },
      "source": [
        "Next we need to create a function, `find_bst_forest`, that accepts an \"adjacency forest\" argument `bst_forest` (which is actually a list of objects of class `bintrees.AVLTree`). Your function should return `True` if there is an edge between vertex `i` and vertex `j`, or `False` otherwise). You'll want to use the class method `__contains__(j)`."
      ]
    },
    {
      "cell_type": "code",
      "metadata": {
        "id": "5FBSbun5cc9L"
      },
      "source": [
        "def find_bst_forest(bst_forest, i, j):\n",
        "    return bst_forest[i].__contains__(j)"
      ],
      "execution_count": 16,
      "outputs": []
    },
    {
      "cell_type": "markdown",
      "metadata": {
        "id": "jQRhkuXMcc9R"
      },
      "source": [
        "Next, we will need a function, `get_bst_forest`, that can create an adjacency forest representation for a graph given an adjacency list as input.  *Important NOTE:* I have deleted the code to create the AVL tree. You should add it."
      ]
    },
    {
      "cell_type": "code",
      "metadata": {
        "id": "iK2GhPzzcc9S"
      },
      "source": [
        "def get_bst_forest(theadjlist):\n",
        "    g_adj_list = theadjlist\n",
        "    n = len(g_adj_list)\n",
        "    theforest = []\n",
        "    for i in range(0,n):\n",
        "        itree = bintrees.AVLTree()\n",
        "        for j in g_adj_list[i]:\n",
        "            itree.insert(j,1)\n",
        "        theforest.append(itree)\n",
        "    return theforest"
      ],
      "execution_count": 17,
      "outputs": []
    },
    {
      "cell_type": "markdown",
      "metadata": {
        "id": "8YwB8fI0cc9W"
      },
      "source": [
        "Here is the code to run the simulation (generate the graph and obtain timing statistics). To keep the code running time reasonable, I decided to only compare the running times for the \"adjacency list\" and \"adjacency forest\" (aka \"adjacency trees\") graph data structures.  The parameter \"n\" is the number of vertices (fixed at 1000) and the parameter \"k\" is the average vertex degree (which we will vary in this exercise). For speed, I have turned off replication (by setting nrep=1 and nsubrep=1), but you can try it with larger values of nrep to see if the results hold up (I expect they will):"
      ]
    },
    {
      "cell_type": "code",
      "metadata": {
        "id": "Fxy245qRcc9X"
      },
      "source": [
        "def do_sim(n, k):\n",
        "\n",
        "    retlist = []\n",
        "\n",
        "    nrep = 1\n",
        "    nsubrep = 1\n",
        "\n",
        "    for _ in range(nrep):\n",
        "\n",
        "        # make the random undirected graph\n",
        "        g = igraph.Graph.Barabasi(n, k)\n",
        "\n",
        "        # get the graph in three different representations\n",
        "        g_matrix = np.matrix(g.get_adjacency().data)\n",
        "\n",
        "        g_adj_list = g.get_adjlist()\n",
        "\n",
        "        g_bst_forest = get_bst_forest(g_adj_list)\n",
        "\n",
        "        start_time = timeit.default_timer()\n",
        "\n",
        "        # inner loop only needs to go from i+1 to n, since the graph is undirected\n",
        "        for _ in range(nsubrep):\n",
        "            for i in range(0, n):\n",
        "                for j in range(i+1, n):\n",
        "                    find_matrix(g_matrix, i, j)\n",
        "\n",
        "        matrix_elapsed = timeit.default_timer() - start_time\n",
        "\n",
        "        start_time = timeit.default_timer()\n",
        "\n",
        "        # inner loop only needs to go from i+1 to n, since the graph is undirected\n",
        "        for _ in range(nsubrep):\n",
        "            for i in range(0, n):\n",
        "                for j in range(i+1, n):\n",
        "                    find_adj_list(g_adj_list, i, j)\n",
        "\n",
        "        adjlist_elapsed = timeit.default_timer() - start_time\n",
        "\n",
        "        start_time = timeit.default_timer()\n",
        "\n",
        "        # inner loop only needs to go from i+1 to n, since the graph is undirected\n",
        "        for _ in range(nsubrep):\n",
        "            for i in range(0, n):\n",
        "                for j in range(i+1, n):\n",
        "                    j in g_bst_forest[i]\n",
        "\n",
        "        forest_elapsed = timeit.default_timer() - start_time\n",
        "\n",
        "        retlist.append([matrix_elapsed, adjlist_elapsed, forest_elapsed])\n",
        "\n",
        "        # get the results in seconds, and make sure to divide by number of vertex pairs\n",
        "    return 1000000*np.mean(np.array(retlist), axis=0)/(n*(n-1)/2)"
      ],
      "execution_count": 18,
      "outputs": []
    },
    {
      "cell_type": "markdown",
      "metadata": {
        "id": "Z3639enKcc9c"
      },
      "source": [
        "Compare the results for differing average degree (i.e., *k*) values.  At *k*=50, the \"adjacency forest\" method (aka \"adjacency tree\" method) is a bit faster than the adjacency list method. By *k*=100, the \"adjacency forest\" method is faster than the \"adjacency list\" method."
      ]
    },
    {
      "cell_type": "code",
      "metadata": {
        "id": "IB1B_XUDcc9e",
        "colab": {
          "base_uri": "https://localhost:8080/",
          "height": 0
        },
        "outputId": "f0de4e70-528a-4b97-899b-5fa827206bdc"
      },
      "source": [
        "do_sim(1000, 5)"
      ],
      "execution_count": 19,
      "outputs": [
        {
          "output_type": "execute_result",
          "data": {
            "text/plain": [
              "array([1.26060782, 0.32662395, 1.77674554])"
            ]
          },
          "metadata": {},
          "execution_count": 19
        }
      ]
    },
    {
      "cell_type": "code",
      "metadata": {
        "id": "RrXm49R6cc9j",
        "colab": {
          "base_uri": "https://localhost:8080/",
          "height": 0
        },
        "outputId": "5a5f55f3-6b03-4a4b-ca6d-c797004a47ab"
      },
      "source": [
        "do_sim(1000, 10)"
      ],
      "execution_count": 20,
      "outputs": [
        {
          "output_type": "execute_result",
          "data": {
            "text/plain": [
              "array([1.63214016, 0.79584158, 1.57761019])"
            ]
          },
          "metadata": {},
          "execution_count": 20
        }
      ]
    },
    {
      "cell_type": "code",
      "metadata": {
        "id": "vG-khegOcc9n",
        "colab": {
          "base_uri": "https://localhost:8080/",
          "height": 0
        },
        "outputId": "c06e87b9-5dcf-47e8-8dbd-1ae3fe36f9a1"
      },
      "source": [
        "do_sim(1000, 20)"
      ],
      "execution_count": 21,
      "outputs": [
        {
          "output_type": "execute_result",
          "data": {
            "text/plain": [
              "array([2.11223157, 1.54110918, 2.78849775])"
            ]
          },
          "metadata": {},
          "execution_count": 21
        }
      ]
    },
    {
      "cell_type": "code",
      "metadata": {
        "id": "h37lBmQpcc9s",
        "colab": {
          "base_uri": "https://localhost:8080/",
          "height": 0
        },
        "outputId": "8ff5e0c1-dd7b-4e78-c1fd-86694190074c"
      },
      "source": [
        "do_sim(1000, 50)"
      ],
      "execution_count": 22,
      "outputs": [
        {
          "output_type": "execute_result",
          "data": {
            "text/plain": [
              "array([0.76242764, 1.30500962, 1.31416769])"
            ]
          },
          "metadata": {},
          "execution_count": 22
        }
      ]
    },
    {
      "cell_type": "code",
      "metadata": {
        "id": "bSgDBij5cc9x",
        "colab": {
          "base_uri": "https://localhost:8080/",
          "height": 0
        },
        "outputId": "691c9a6b-5a7d-49cd-ca8e-ba887b0984ca"
      },
      "source": [
        "do_sim(1000, 100)"
      ],
      "execution_count": 23,
      "outputs": [
        {
          "output_type": "execute_result",
          "data": {
            "text/plain": [
              "array([0.78201478, 2.26417295, 1.38324144])"
            ]
          },
          "metadata": {},
          "execution_count": 23
        }
      ]
    }
  ]
}